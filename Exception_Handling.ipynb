{
 "cells": [
  {
   "cell_type": "markdown",
   "metadata": {},
   "source": [
    "# Exception Handling\n",
    "\n",
    "- Write the error-prone code under *try* statement\n",
    "- Write the block of code to be executed when error occurs under *exception* statement"
   ]
  },
  {
   "cell_type": "markdown",
   "metadata": {},
   "source": [
    "### General Exception Handling"
   ]
  },
  {
   "cell_type": "code",
   "execution_count": 1,
   "metadata": {},
   "outputs": [
    {
     "name": "stdout",
     "output_type": "stream",
     "text": [
      "Error occured\n"
     ]
    }
   ],
   "source": [
    "n = 5\n",
    "\n",
    "try:\n",
    "    result = (n+5) / (n-5)\n",
    "    print(\"The result is\", result)\n",
    "\n",
    "except:\n",
    "    print(\"Error occured\")"
   ]
  },
  {
   "cell_type": "markdown",
   "metadata": {},
   "source": [
    "### Error based Exception Handling"
   ]
  },
  {
   "cell_type": "code",
   "execution_count": 13,
   "metadata": {},
   "outputs": [
    {
     "name": "stdout",
     "output_type": "stream",
     "text": [
      "You tried to divide by zero\n"
     ]
    }
   ],
   "source": [
    "n = 5\n",
    "ls = [1, 2, 3, 4, 5]\n",
    "dictionary = {'one':1, 'two':2, 'three':3}\n",
    "\n",
    "try:\n",
    "    result = (n+5) / (n-5)\n",
    "    print(\"The result is\", result)\n",
    "\n",
    "    result = ls[8]\n",
    "    print(\"The result is\", result)\n",
    "\n",
    "    result = dictionary['five']\n",
    "    print(\"The result is\", result)\n",
    "\n",
    "# For divide by zero errors\n",
    "except ZeroDivisionError:\n",
    "    print(\"You tried to divide by zero\")\n",
    "\n",
    "# For index error of iterable items\n",
    "except IndexError:\n",
    "    print(\"You tried to access invalid list index\")\n",
    "\n",
    "# For dictionary key errors\n",
    "except KeyError:\n",
    "    print(\"You tried to access dictionary with an invalid key\")\n",
    "\n",
    "# For all remaining types of errors\n",
    "except Exception as err:\n",
    "    print(\"Error occured:\", err)"
   ]
  },
  {
   "cell_type": "markdown",
   "metadata": {},
   "source": [
    "### try-except-else Ladder\n",
    "\n",
    "- The *else* part only works when there is no error\n",
    "- I found it useless as we can write the block of code in the *try* itself"
   ]
  },
  {
   "cell_type": "code",
   "execution_count": 15,
   "metadata": {},
   "outputs": [
    {
     "name": "stdout",
     "output_type": "stream",
     "text": [
      "The result is 11.0\n",
      "Congratulations!!! Code ran without errors\n"
     ]
    }
   ],
   "source": [
    "n = 6\n",
    "\n",
    "try:\n",
    "    result = (n+5) / (n-5)\n",
    "    print(\"The result is\", result)\n",
    "\n",
    "except:\n",
    "    print(\"Error occured\")\n",
    "\n",
    "else:\n",
    "    print(\"Congratulations!!! Code ran without errors\")"
   ]
  },
  {
   "cell_type": "markdown",
   "metadata": {},
   "source": [
    "### *finally* keyword"
   ]
  },
  {
   "cell_type": "code",
   "execution_count": 16,
   "metadata": {},
   "outputs": [
    {
     "name": "stdout",
     "output_type": "stream",
     "text": [
      "Error occured\n",
      "I will always print irrespective of error\n"
     ]
    }
   ],
   "source": [
    "n = 5\n",
    "try:\n",
    "    result = (n+5) / (n-5)\n",
    "    print(\"The result is\", result)\n",
    "\n",
    "except:\n",
    "    print(\"Error occured\")\n",
    "\n",
    "else:\n",
    "    print(\"Congratulations!!! Code ran without errors\")\n",
    "\n",
    "finally:\n",
    "    print(\"I will always print irrespective of error\")"
   ]
  },
  {
   "attachments": {},
   "cell_type": "markdown",
   "metadata": {},
   "source": [
    "### We can have a single finally block afetr multiple try-except blocks"
   ]
  },
  {
   "cell_type": "code",
   "execution_count": 1,
   "metadata": {},
   "outputs": [],
   "source": [
    "try:\n",
    "    # Code block 1\n",
    "    # May raise an exception\n",
    "    pass\n",
    "except:\n",
    "    # Exception handling for ExceptionType1\n",
    "    pass\n",
    "\n",
    "try:\n",
    "    # Code block 2\n",
    "    # May raise an exception\n",
    "    pass\n",
    "except:\n",
    "    # Exception handling for ExceptionType2\n",
    "    pass\n",
    "\n",
    "# More try-except blocks if needed\n",
    "\n",
    "finally:\n",
    "    # Code in the finally block\n",
    "    # Executes regardless of exceptions in the preceding try-except blocks\n",
    "    pass"
   ]
  }
 ],
 "metadata": {
  "kernelspec": {
   "display_name": "Python 3.11.0 64-bit",
   "language": "python",
   "name": "python3"
  },
  "language_info": {
   "codemirror_mode": {
    "name": "ipython",
    "version": 3
   },
   "file_extension": ".py",
   "mimetype": "text/x-python",
   "name": "python",
   "nbconvert_exporter": "python",
   "pygments_lexer": "ipython3",
   "version": "3.11.2"
  },
  "orig_nbformat": 4,
  "vscode": {
   "interpreter": {
    "hash": "5238573367df39f7286bb46f9ff5f08f63a01a80960060ce41e3c79b190280fa"
   }
  }
 },
 "nbformat": 4,
 "nbformat_minor": 2
}

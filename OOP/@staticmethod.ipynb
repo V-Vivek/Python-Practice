{
 "cells": [
  {
   "cell_type": "markdown",
   "metadata": {},
   "source": [
    "# Static Method\n",
    "- Static method are methods without the ***self*** argument\n",
    "- It can be called either by using Class name or by Class objects"
   ]
  },
  {
   "cell_type": "code",
   "execution_count": 2,
   "metadata": {},
   "outputs": [
    {
     "name": "stdout",
     "output_type": "stream",
     "text": [
      "Welcome to the Big Data Technology!!\n",
      "Welcome to the Big Data Technology!!\n"
     ]
    }
   ],
   "source": [
    "class BigData:\n",
    "    def __init__(self) -> None:\n",
    "        pass\n",
    "    \n",
    "    @staticmethod\n",
    "    def welcome():\n",
    "        print('Welcome to the Big Data Technology!!')\n",
    "\n",
    "# Using Class name\n",
    "BigData.welcome()\n",
    "\n",
    "# Using Class object\n",
    "obj = BigData()\n",
    "obj.welcome()\n",
    "\n"
   ]
  }
 ],
 "metadata": {
  "kernelspec": {
   "display_name": "Python 3.11.0 64-bit",
   "language": "python",
   "name": "python3"
  },
  "language_info": {
   "codemirror_mode": {
    "name": "ipython",
    "version": 3
   },
   "file_extension": ".py",
   "mimetype": "text/x-python",
   "name": "python",
   "nbconvert_exporter": "python",
   "pygments_lexer": "ipython3",
   "version": "3.11.0"
  },
  "orig_nbformat": 4,
  "vscode": {
   "interpreter": {
    "hash": "5238573367df39f7286bb46f9ff5f08f63a01a80960060ce41e3c79b190280fa"
   }
  }
 },
 "nbformat": 4,
 "nbformat_minor": 2
}

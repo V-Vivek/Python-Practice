{
 "cells": [
  {
   "cell_type": "markdown",
   "metadata": {},
   "source": [
    "# Polymorphism in Python\n",
    "\n",
    "- The word polymorphism means having many forms. In programming, polymorphism means the same function name (but different signatures) being used for different types."
   ]
  },
  {
   "cell_type": "markdown",
   "metadata": {},
   "source": [
    "### There are 2 types of ploymorphism\n",
    "- Overloading - The function accepts multiple types of arguments\n",
    "- Overriding - There are multiple functions with same name"
   ]
  },
  {
   "cell_type": "markdown",
   "metadata": {},
   "source": [
    "### Overloading:\n",
    "\n",
    "- len() function in Python is example of Overloading\n",
    "- It can accept different types of iterable arguments. e.g. string, list, tuple, etc."
   ]
  },
  {
   "cell_type": "markdown",
   "metadata": {},
   "source": [
    "### Overriding:\n",
    "\n",
    "- We can have multiple methods with same name in different classes.\n",
    "- The method which will be actually called depends on the object which calls it.\n",
    "- In below example *welcome()* method is overrided in two different classes."
   ]
  },
  {
   "cell_type": "code",
   "execution_count": 1,
   "metadata": {},
   "outputs": [
    {
     "name": "stdout",
     "output_type": "stream",
     "text": [
      "Welcome from Class A\n",
      "Welcome from Class B\n"
     ]
    }
   ],
   "source": [
    "class A():\n",
    "    def welcome(self):\n",
    "        print(\"Welcome from Class A\")\n",
    "\n",
    "class B(A):\n",
    "    def welcome(self):\n",
    "        print(\"Welcome from Class B\")\n",
    "\n",
    "obj_a = A()\n",
    "obj_b = B()\n",
    "\n",
    "obj_a.welcome()\n",
    "obj_b.welcome()\n"
   ]
  }
 ],
 "metadata": {
  "kernelspec": {
   "display_name": "Python 3.11.0 64-bit",
   "language": "python",
   "name": "python3"
  },
  "language_info": {
   "codemirror_mode": {
    "name": "ipython",
    "version": 3
   },
   "file_extension": ".py",
   "mimetype": "text/x-python",
   "name": "python",
   "nbconvert_exporter": "python",
   "pygments_lexer": "ipython3",
   "version": "3.11.0"
  },
  "orig_nbformat": 4,
  "vscode": {
   "interpreter": {
    "hash": "5238573367df39f7286bb46f9ff5f08f63a01a80960060ce41e3c79b190280fa"
   }
  }
 },
 "nbformat": 4,
 "nbformat_minor": 2
}

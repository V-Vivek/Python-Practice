{
 "cells": [
  {
   "cell_type": "markdown",
   "metadata": {},
   "source": [
    "# Python Inheritance"
   ]
  },
  {
   "cell_type": "code",
   "execution_count": 13,
   "metadata": {},
   "outputs": [],
   "source": [
    "class DataDomain():\n",
    "    basic_skills = ['Python', 'SQL', 'Problem Solving']\n",
    "    tools = [] # Default blank list of tools to avoid errors as it is specific only for DataAnalysis calss\n",
    "    def __init__(self, name, advance_skills):\n",
    "        self.name =name\n",
    "        self.advance_skills = advance_skills\n",
    "\n",
    "    def skills(self):\n",
    "        print(f\"{self.name} has these skills -> {self.basic_skills + self.advance_skills + self.tools}\")\n",
    "\n",
    "class DataEngineering(DataDomain):\n",
    "    pass\n",
    "\n",
    "class DataAnalysis(DataDomain):\n",
    "    def __init__(self, name, advance_skills, tools):\n",
    "        super().__init__(name, advance_skills)\n",
    "        self.tools = tools\n",
    "\n",
    "class DataScience(DataDomain):\n",
    "    def __init__(self, name, advance_skills):\n",
    "        super().__init__(name, advance_skills)"
   ]
  },
  {
   "cell_type": "markdown",
   "metadata": {},
   "source": [
    "- The child's \\__init__() function overrides the inheritance of the parent's \\__init__() function.\n",
    "- To keep the inheritance of the parent's \\__init__() function, add a call to the parent's \\__init__() function using **super()** function"
   ]
  },
  {
   "cell_type": "markdown",
   "metadata": {},
   "source": [
    "- Parent Class object"
   ]
  },
  {
   "cell_type": "code",
   "execution_count": 14,
   "metadata": {},
   "outputs": [
    {
     "name": "stdout",
     "output_type": "stream",
     "text": [
      "Dave has these skills -> ['Python', 'SQL', 'Problem Solving', 'Management', 'Leadership']\n"
     ]
    }
   ],
   "source": [
    "emp1 = DataDomain('Dave', ['Management', 'Leadership'])\n",
    "emp1.skills()"
   ]
  },
  {
   "cell_type": "markdown",
   "metadata": {},
   "source": [
    "- Derived class object\n",
    "- It uses inherited constructor of Parent class as it doesn't have it's own constructor"
   ]
  },
  {
   "cell_type": "code",
   "execution_count": 15,
   "metadata": {},
   "outputs": [
    {
     "name": "stdout",
     "output_type": "stream",
     "text": [
      "Mike has these skills -> ['Python', 'SQL', 'Problem Solving', 'Scala', 'Hadoop', 'Spark']\n"
     ]
    }
   ],
   "source": [
    "emp2 = DataEngineering('Mike', ['Scala', 'Hadoop', 'Spark'])\n",
    "emp2.skills()"
   ]
  },
  {
   "cell_type": "markdown",
   "metadata": {},
   "source": [
    "- Derived class object\n",
    "- It uses inherited constructor of Parent class with **some modification**"
   ]
  },
  {
   "cell_type": "code",
   "execution_count": 16,
   "metadata": {},
   "outputs": [
    {
     "name": "stdout",
     "output_type": "stream",
     "text": [
      "Tom has these skills -> ['Python', 'SQL', 'Problem Solving', 'Stats', 'Dashboarding', 'Tableau', 'PowerBI']\n"
     ]
    }
   ],
   "source": [
    "emp3 = DataAnalysis('Tom', ['Stats', 'Dashboarding'], ['Tableau', 'PowerBI'])\n",
    "emp3.skills()"
   ]
  }
 ],
 "metadata": {
  "kernelspec": {
   "display_name": "Python 3.11.0 64-bit",
   "language": "python",
   "name": "python3"
  },
  "language_info": {
   "codemirror_mode": {
    "name": "ipython",
    "version": 3
   },
   "file_extension": ".py",
   "mimetype": "text/x-python",
   "name": "python",
   "nbconvert_exporter": "python",
   "pygments_lexer": "ipython3",
   "version": "3.11.0"
  },
  "orig_nbformat": 4,
  "vscode": {
   "interpreter": {
    "hash": "5238573367df39f7286bb46f9ff5f08f63a01a80960060ce41e3c79b190280fa"
   }
  }
 },
 "nbformat": 4,
 "nbformat_minor": 2
}

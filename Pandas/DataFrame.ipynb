{
 "cells": [
  {
   "attachments": {},
   "cell_type": "markdown",
   "metadata": {},
   "source": [
    "# DataFrames\n",
    "- Data sets in Pandas are usually multi-dimensional tables, called DataFrames.\n",
    "\n",
    "- Series is like a column, a DataFrame is the whole table.\n",
    "\n",
    "- A Pandas DataFrame is a 2 dimensional data structure, like a 2 dimensional array, or a table with rows and columns"
   ]
  },
  {
   "attachments": {},
   "cell_type": "markdown",
   "metadata": {},
   "source": [
    "## Create DataFrame using different Data Types"
   ]
  },
  {
   "cell_type": "code",
   "execution_count": 2,
   "metadata": {},
   "outputs": [],
   "source": [
    "import pandas as pd"
   ]
  },
  {
   "attachments": {},
   "cell_type": "markdown",
   "metadata": {},
   "source": [
    "- Using list"
   ]
  },
  {
   "cell_type": "code",
   "execution_count": 3,
   "metadata": {},
   "outputs": [
    {
     "name": "stdout",
     "output_type": "stream",
     "text": [
      "     0\n",
      "0    1\n",
      "1  9.3\n",
      "2    a\n"
     ]
    }
   ],
   "source": [
    "lst = [1, 9.3, 'a']\n",
    "df1 = pd.DataFrame(lst)\n",
    "print(df1)"
   ]
  },
  {
   "attachments": {},
   "cell_type": "markdown",
   "metadata": {},
   "source": [
    "- Using tuple"
   ]
  },
  {
   "cell_type": "code",
   "execution_count": 4,
   "metadata": {},
   "outputs": [
    {
     "name": "stdout",
     "output_type": "stream",
     "text": [
      "     0\n",
      "0    3\n",
      "1  5.8\n",
      "2    b\n"
     ]
    }
   ],
   "source": [
    "tup = (3, 5.8, 'b')\n",
    "df2 = pd.DataFrame(tup)\n",
    "print(df2)"
   ]
  },
  {
   "attachments": {},
   "cell_type": "markdown",
   "metadata": {},
   "source": [
    "- Using dictionary"
   ]
  },
  {
   "cell_type": "code",
   "execution_count": 5,
   "metadata": {},
   "outputs": [
    {
     "name": "stdout",
     "output_type": "stream",
     "text": [
      "    name  age\n",
      "0  Vivek   23\n",
      "1   Alex   20\n",
      "2    Bob   18\n"
     ]
    }
   ],
   "source": [
    "mydict = {'name':['Vivek', 'Alex', 'Bob'], 'age':[23, 20, 18]}\n",
    "df3 = pd.DataFrame(mydict)\n",
    "print(df3)"
   ]
  },
  {
   "attachments": {},
   "cell_type": "markdown",
   "metadata": {},
   "source": [
    "- Using single Series"
   ]
  },
  {
   "cell_type": "code",
   "execution_count": 6,
   "metadata": {},
   "outputs": [
    {
     "name": "stdout",
     "output_type": "stream",
     "text": [
      "   fruits\n",
      "0   Apple\n",
      "1  Orange\n",
      "2  Banana\n"
     ]
    }
   ],
   "source": [
    "sr2 = pd.Series(['Apple', 'Orange', 'Banana'], name = 'fruits')\n",
    "df4 = pd.DataFrame(sr2)\n",
    "print(df4)"
   ]
  },
  {
   "attachments": {},
   "cell_type": "markdown",
   "metadata": {},
   "source": [
    "- Using multiple Series"
   ]
  },
  {
   "cell_type": "code",
   "execution_count": 7,
   "metadata": {},
   "outputs": [
    {
     "name": "stdout",
     "output_type": "stream",
     "text": [
      "   id   fruit\n",
      "0   3   Apple\n",
      "1   2  Orange\n",
      "2   5  Banana\n"
     ]
    }
   ],
   "source": [
    "sr1 = pd.Series([3, 2, 5])\n",
    "sr2 = pd.Series(['Apple', 'Orange', 'Banana'])\n",
    "dict_series = {'id': sr1, 'fruit': sr2}\n",
    "df5 = pd.DataFrame(dict_series)\n",
    "print(df5)"
   ]
  },
  {
   "attachments": {},
   "cell_type": "markdown",
   "metadata": {},
   "source": [
    "## Optional Arguments\n",
    "- `index`: To assign custom index to the rows of DataFrame\n",
    "- `columns`: To assign custom name to the columns of a DataFrame"
   ]
  },
  {
   "cell_type": "code",
   "execution_count": 10,
   "metadata": {},
   "outputs": [
    {
     "name": "stdout",
     "output_type": "stream",
     "text": [
      "      name  age      city\n",
      "id1  Vivek   23      Pune\n",
      "id2    Ram   40  Banglore\n",
      "id3  Ankit   32     Delhi\n",
      "Ankit\n"
     ]
    }
   ],
   "source": [
    "lst = [['Vivek', 23, 'Pune'], ['Ram', 40, 'Banglore'], ['Ankit', 32, 'Delhi']]\n",
    "df1 = pd.DataFrame(lst, index = ['id1','id2','id3'], columns = ['name','age', 'city'])\n",
    "print(df1)\n",
    "print(df1['name']['id3'])"
   ]
  },
  {
   "attachments": {},
   "cell_type": "markdown",
   "metadata": {},
   "source": [
    "- `columns` can also be used to "
   ]
  },
  {
   "attachments": {},
   "cell_type": "markdown",
   "metadata": {},
   "source": [
    "- "
   ]
  }
 ],
 "metadata": {
  "kernelspec": {
   "display_name": "Python 3",
   "language": "python",
   "name": "python3"
  },
  "language_info": {
   "codemirror_mode": {
    "name": "ipython",
    "version": 3
   },
   "file_extension": ".py",
   "mimetype": "text/x-python",
   "name": "python",
   "nbconvert_exporter": "python",
   "pygments_lexer": "ipython3",
   "version": "3.11.0"
  },
  "orig_nbformat": 4,
  "vscode": {
   "interpreter": {
    "hash": "5238573367df39f7286bb46f9ff5f08f63a01a80960060ce41e3c79b190280fa"
   }
  }
 },
 "nbformat": 4,
 "nbformat_minor": 2
}

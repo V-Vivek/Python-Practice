{
 "cells": [
  {
   "attachments": {},
   "cell_type": "markdown",
   "metadata": {},
   "source": [
    "# DataFrames\n",
    "- Data sets in Pandas are usually multi-dimensional tables, called DataFrames.\n",
    "\n",
    "- Series is like a column, a DataFrame is the whole table.\n",
    "\n",
    "- A Pandas DataFrame is a 2 dimensional data structure, like a 2 dimensional array, or a table with rows and columns"
   ]
  },
  {
   "attachments": {},
   "cell_type": "markdown",
   "metadata": {},
   "source": [
    "## Create DataFrame using different Data Types"
   ]
  },
  {
   "cell_type": "code",
   "execution_count": 34,
   "metadata": {},
   "outputs": [
    {
     "name": "stdout",
     "output_type": "stream",
     "text": [
      "Using list\n",
      "     0\n",
      "0    1\n",
      "1  9.3\n",
      "2    a \n",
      "\n",
      "Using tuple\n",
      "     0\n",
      "0    3\n",
      "1  5.8\n",
      "2    b \n",
      "\n",
      "Using dictionary\n",
      "    name  age\n",
      "0  Vivek   23\n",
      "1   Alex   20\n",
      "2    Bob   18 \n",
      "\n",
      "Using single Series\n",
      "   fruits\n",
      "0   Apple\n",
      "1  Orange\n",
      "2  Banana \n",
      "\n",
      "Using multiple Series\n",
      "   id   fruit\n",
      "0   3   Apple\n",
      "1   2  Orange\n",
      "2   5  Banana\n"
     ]
    }
   ],
   "source": [
    "import pandas as pd\n",
    "\n",
    "# Using list\n",
    "lst = [1, 9.3, 'a']\n",
    "df1 = pd.DataFrame(lst)\n",
    "print('Using list')\n",
    "print(df1, '\\n')\n",
    "\n",
    "# Using tuple\n",
    "tup = (3, 5.8, 'b')\n",
    "df2 = pd.DataFrame(tup)\n",
    "print('Using tuple')\n",
    "print(df2, '\\n')\n",
    "\n",
    "# Using dictionary\n",
    "mydict = {'name':['Vivek', 'Alex', 'Bob'], 'age':[23, 20, 18]}\n",
    "df3 = pd.DataFrame(mydict)\n",
    "print('Using dictionary')\n",
    "print(df3, '\\n')\n",
    "\n",
    "# Using single Series\n",
    "sr2 = pd.Series(['Apple', 'Orange', 'Banana'], name = 'fruits')\n",
    "df4 = pd.DataFrame(sr2)\n",
    "print('Using single Series')\n",
    "print(df4, '\\n')\n",
    "\n",
    "# Using multiple Series\n",
    "sr1 = pd.Series([3, 2, 5])\n",
    "sr2 = pd.Series(['Apple', 'Orange', 'Banana'])\n",
    "dict_series = {'id': sr1, 'fruit': sr2}\n",
    "df5 = pd.DataFrame(dict_series)\n",
    "print('Using multiple Series')\n",
    "print(df5)"
   ]
  }
 ],
 "metadata": {
  "kernelspec": {
   "display_name": "Python 3",
   "language": "python",
   "name": "python3"
  },
  "language_info": {
   "codemirror_mode": {
    "name": "ipython",
    "version": 3
   },
   "file_extension": ".py",
   "mimetype": "text/x-python",
   "name": "python",
   "nbconvert_exporter": "python",
   "pygments_lexer": "ipython3",
   "version": "3.11.0"
  },
  "orig_nbformat": 4,
  "vscode": {
   "interpreter": {
    "hash": "5238573367df39f7286bb46f9ff5f08f63a01a80960060ce41e3c79b190280fa"
   }
  }
 },
 "nbformat": 4,
 "nbformat_minor": 2
}

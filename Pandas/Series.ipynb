{
 "cells": [
  {
   "attachments": {},
   "cell_type": "markdown",
   "metadata": {},
   "source": [
    "# Series\n",
    "- Pandas Series is like a column in a table\n",
    "\n",
    "- It is a one-dimensional array holding data of any type\n"
   ]
  },
  {
   "attachments": {},
   "cell_type": "markdown",
   "metadata": {},
   "source": [
    "## Create Series using different Data Types"
   ]
  },
  {
   "cell_type": "code",
   "execution_count": 9,
   "metadata": {},
   "outputs": [
    {
     "name": "stdout",
     "output_type": "stream",
     "text": [
      "Using list\n",
      "0      1\n",
      "1    9.3\n",
      "2      a\n",
      "dtype: object \n",
      "\n",
      "Using tuple\n",
      "0      3\n",
      "1    5.8\n",
      "2      b\n",
      "dtype: object \n",
      "\n",
      "Using dictionary\n",
      "name    Vivek\n",
      "age        23\n",
      "city     Pune\n",
      "dtype: object\n"
     ]
    }
   ],
   "source": [
    "import pandas as pd\n",
    "\n",
    "# Using list\n",
    "lst = [1, 9.3, 'a']\n",
    "myseries = pd.Series(lst)\n",
    "print('Using list')\n",
    "print(myseries, '\\n')\n",
    "\n",
    "# Using tuple\n",
    "tup = (3, 5.8, 'b')\n",
    "myseries = pd.Series(tup)\n",
    "print('Using tuple')\n",
    "print(myseries, '\\n')\n",
    "\n",
    "# Using dictionary\n",
    "mydict = {'name':'Vivek', 'age':23, 'city':'Pune'}\n",
    "myseries = pd.Series(mydict)\n",
    "print('Using dictionary')\n",
    "print(myseries)"
   ]
  },
  {
   "attachments": {},
   "cell_type": "markdown",
   "metadata": {},
   "source": [
    "## Optional Arguments:\n",
    "- `index`: By default Series assigns index to its elements starting from 0 index. We can also assign custom indexes & use those indexes to access an item from Series\n",
    "- `dtye`:  It is used to typecast the elements of the Series\n",
    "- `name`: It assigns a name to the Series. This name will be used as column name if we create a DataFrame using Series"
   ]
  },
  {
   "attachments": {},
   "cell_type": "markdown",
   "metadata": {},
   "source": [
    "### Series with optional arguments"
   ]
  },
  {
   "cell_type": "code",
   "execution_count": 29,
   "metadata": {},
   "outputs": [
    {
     "name": "stdout",
     "output_type": "stream",
     "text": [
      "With custom index\n",
      "name    Vivek\n",
      "age        23\n",
      "city     Pune\n",
      "dtype: object \n",
      "\n",
      "With dtype\n",
      "0    3.0\n",
      "1    2.0\n",
      "2    1.5\n",
      "dtype: float64 \n",
      "\n",
      "With name\n",
      "0    3.0\n",
      "1    2.0\n",
      "2    1.5\n",
      "Name: vivek, dtype: float64\n"
     ]
    }
   ],
   "source": [
    "import pandas as pd\n",
    "\n",
    "sr1 = pd.Series(['Vivek', '23', 'Pune'], index=['name', 'age', 'city'])\n",
    "print('With custom index')\n",
    "print(sr1, '\\n')\n",
    "\n",
    "sr2 = pd.Series([3, 2, 1.5], dtype=float)\n",
    "print('With dtype')\n",
    "print(sr2, '\\n')\n",
    "\n",
    "sr3 = pd.Series([3, 2, 1.5], name='vivek')\n",
    "print('With name')\n",
    "print(sr3)"
   ]
  }
 ],
 "metadata": {
  "kernelspec": {
   "display_name": "Python 3",
   "language": "python",
   "name": "python3"
  },
  "language_info": {
   "codemirror_mode": {
    "name": "ipython",
    "version": 3
   },
   "file_extension": ".py",
   "mimetype": "text/x-python",
   "name": "python",
   "nbconvert_exporter": "python",
   "pygments_lexer": "ipython3",
   "version": "3.11.0"
  },
  "orig_nbformat": 4,
  "vscode": {
   "interpreter": {
    "hash": "5238573367df39f7286bb46f9ff5f08f63a01a80960060ce41e3c79b190280fa"
   }
  }
 },
 "nbformat": 4,
 "nbformat_minor": 2
}

{
 "cells": [
  {
   "attachments": {},
   "cell_type": "markdown",
   "metadata": {},
   "source": [
    "## Series\n",
    "- Pandas Series is like a column in a table\n",
    "\n",
    "- It is a one-dimensional array holding data of any type\n"
   ]
  },
  {
   "attachments": {},
   "cell_type": "markdown",
   "metadata": {},
   "source": [
    "- Arguments:\n",
    "    - `index`: By default Series assigns index to its elements starting from 0 index. We can also assign custom indexes & use those indexes to access an item from Series"
   ]
  },
  {
   "attachments": {},
   "cell_type": "markdown",
   "metadata": {},
   "source": [
    "#### Create Series with & without custom index"
   ]
  },
  {
   "cell_type": "code",
   "execution_count": 11,
   "metadata": {},
   "outputs": [
    {
     "name": "stdout",
     "output_type": "stream",
     "text": [
      "Without custom index\n",
      "0    Vivek\n",
      "1       23\n",
      "2     Pune\n",
      "dtype: object \n",
      "\n",
      "With custom index\n",
      "name    Vivek\n",
      "age        23\n",
      "city     Pune\n",
      "dtype: object\n"
     ]
    }
   ],
   "source": [
    "import pandas as pd\n",
    "series_without_index = pd.Series(['Vivek', '23', 'Pune'])\n",
    "series_with_index = pd.Series(['Vivek', '23', 'Pune'], index=['name', 'age', 'city'])\n",
    "print('Without custom index')\n",
    "print(series_without_index,'\\n')\n",
    "print('With custom index')\n",
    "print(series_with_index)"
   ]
  },
  {
   "attachments": {},
   "cell_type": "markdown",
   "metadata": {},
   "source": [
    "#### Create Series using list"
   ]
  },
  {
   "cell_type": "code",
   "execution_count": 2,
   "metadata": {},
   "outputs": [
    {
     "name": "stdout",
     "output_type": "stream",
     "text": [
      "0      1\n",
      "1      5\n",
      "2    7.5\n",
      "3    9.3\n",
      "4      a\n",
      "5      b\n",
      "dtype: object\n"
     ]
    }
   ],
   "source": [
    "import pandas as pd\n",
    "lst = [1, 5, 7.5, 9.3, 'a', 'b']\n",
    "myseries = pd.Series(lst)\n",
    "print(myseries)"
   ]
  },
  {
   "attachments": {},
   "cell_type": "markdown",
   "metadata": {},
   "source": [
    "#### Create Series using tuple"
   ]
  },
  {
   "cell_type": "code",
   "execution_count": 12,
   "metadata": {},
   "outputs": [
    {
     "name": "stdout",
     "output_type": "stream",
     "text": [
      "0    1\n",
      "1    a\n",
      "2    b\n",
      "dtype: object\n"
     ]
    }
   ],
   "source": [
    "import pandas as pd\n",
    "tup = (1, 'a', 'b')\n",
    "myseries = pd.Series(tup)\n",
    "print(myseries)"
   ]
  },
  {
   "attachments": {},
   "cell_type": "markdown",
   "metadata": {},
   "source": [
    "#### Create Series using dictionary"
   ]
  },
  {
   "cell_type": "code",
   "execution_count": 3,
   "metadata": {},
   "outputs": [
    {
     "name": "stdout",
     "output_type": "stream",
     "text": [
      "name    Vivek\n",
      "age        23\n",
      "city     Pune\n",
      "dtype: object\n"
     ]
    }
   ],
   "source": [
    "import pandas as pd\n",
    "a = {'name':'Vivek', 'age':23, 'city':'Pune'}\n",
    "myseries = pd.Series(a)\n",
    "print(myseries)"
   ]
  }
 ],
 "metadata": {
  "kernelspec": {
   "display_name": "Python 3",
   "language": "python",
   "name": "python3"
  },
  "language_info": {
   "codemirror_mode": {
    "name": "ipython",
    "version": 3
   },
   "file_extension": ".py",
   "mimetype": "text/x-python",
   "name": "python",
   "nbconvert_exporter": "python",
   "pygments_lexer": "ipython3",
   "version": "3.11.0"
  },
  "orig_nbformat": 4,
  "vscode": {
   "interpreter": {
    "hash": "5238573367df39f7286bb46f9ff5f08f63a01a80960060ce41e3c79b190280fa"
   }
  }
 },
 "nbformat": 4,
 "nbformat_minor": 2
}

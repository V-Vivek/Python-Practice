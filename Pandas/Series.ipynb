{
 "cells": [
  {
   "attachments": {},
   "cell_type": "markdown",
   "metadata": {},
   "source": [
    "# Series\n",
    "- Pandas Series is like a column in a table\n",
    "\n",
    "- It is a one-dimensional array holding data of any type\n"
   ]
  },
  {
   "attachments": {},
   "cell_type": "markdown",
   "metadata": {},
   "source": [
    "## Create Series using different Data Types"
   ]
  },
  {
   "cell_type": "code",
   "execution_count": 30,
   "metadata": {},
   "outputs": [],
   "source": [
    "import pandas as pd"
   ]
  },
  {
   "attachments": {},
   "cell_type": "markdown",
   "metadata": {},
   "source": [
    "- Using list"
   ]
  },
  {
   "cell_type": "code",
   "execution_count": 31,
   "metadata": {},
   "outputs": [
    {
     "name": "stdout",
     "output_type": "stream",
     "text": [
      "0      1\n",
      "1    9.3\n",
      "2      a\n",
      "dtype: object\n"
     ]
    }
   ],
   "source": [
    "lst = [1, 9.3, 'a']\n",
    "myseries = pd.Series(lst)\n",
    "print(myseries)"
   ]
  },
  {
   "attachments": {},
   "cell_type": "markdown",
   "metadata": {},
   "source": [
    "- Using tuple"
   ]
  },
  {
   "cell_type": "code",
   "execution_count": 32,
   "metadata": {},
   "outputs": [
    {
     "name": "stdout",
     "output_type": "stream",
     "text": [
      "0      3\n",
      "1    5.8\n",
      "2      b\n",
      "dtype: object\n"
     ]
    }
   ],
   "source": [
    "tup = (3, 5.8, 'b')\n",
    "myseries = pd.Series(tup)\n",
    "print(myseries)"
   ]
  },
  {
   "attachments": {},
   "cell_type": "markdown",
   "metadata": {},
   "source": [
    "- Using dictionary"
   ]
  },
  {
   "cell_type": "code",
   "execution_count": 33,
   "metadata": {},
   "outputs": [
    {
     "name": "stdout",
     "output_type": "stream",
     "text": [
      "name    Vivek\n",
      "age        23\n",
      "city     Pune\n",
      "dtype: object\n"
     ]
    }
   ],
   "source": [
    "mydict = {'name':'Vivek', 'age':23, 'city':'Pune'}\n",
    "myseries = pd.Series(mydict)\n",
    "print(myseries)"
   ]
  },
  {
   "attachments": {},
   "cell_type": "markdown",
   "metadata": {},
   "source": [
    "## Optional Arguments:\n",
    "- `index`: By default Series assigns index to its elements starting from 0 index. We can also assign custom indexes & use those indexes to access an item from Series"
   ]
  },
  {
   "cell_type": "code",
   "execution_count": 34,
   "metadata": {},
   "outputs": [
    {
     "name": "stdout",
     "output_type": "stream",
     "text": [
      "name    Vivek\n",
      "age        23\n",
      "city     Pune\n",
      "dtype: object\n"
     ]
    }
   ],
   "source": [
    "sr1 = pd.Series(['Vivek', '23', 'Pune'], index=['name', 'age', 'city'])\n",
    "print(sr1)"
   ]
  },
  {
   "attachments": {},
   "cell_type": "markdown",
   "metadata": {},
   "source": [
    "- `dtye`:  It is used to typecast the elements of the Series"
   ]
  },
  {
   "cell_type": "code",
   "execution_count": 35,
   "metadata": {},
   "outputs": [
    {
     "name": "stdout",
     "output_type": "stream",
     "text": [
      "0    3.0\n",
      "1    2.0\n",
      "2    1.5\n",
      "dtype: float64\n"
     ]
    }
   ],
   "source": [
    "sr2 = pd.Series([3, 2, 1.5], dtype=float)\n",
    "print(sr2)"
   ]
  },
  {
   "attachments": {},
   "cell_type": "markdown",
   "metadata": {},
   "source": [
    "- `name`: It assigns a name to the Series. This name will be used as column name if we create a DataFrame using Series"
   ]
  },
  {
   "cell_type": "code",
   "execution_count": 36,
   "metadata": {},
   "outputs": [
    {
     "name": "stdout",
     "output_type": "stream",
     "text": [
      "0    3.0\n",
      "1    2.0\n",
      "2    1.5\n",
      "Name: vivek, dtype: float64\n"
     ]
    }
   ],
   "source": [
    "sr3 = pd.Series([3, 2, 1.5], name='vivek')\n",
    "print(sr3)"
   ]
  }
 ],
 "metadata": {
  "kernelspec": {
   "display_name": "Python 3",
   "language": "python",
   "name": "python3"
  },
  "language_info": {
   "codemirror_mode": {
    "name": "ipython",
    "version": 3
   },
   "file_extension": ".py",
   "mimetype": "text/x-python",
   "name": "python",
   "nbconvert_exporter": "python",
   "pygments_lexer": "ipython3",
   "version": "3.11.0"
  },
  "orig_nbformat": 4,
  "vscode": {
   "interpreter": {
    "hash": "5238573367df39f7286bb46f9ff5f08f63a01a80960060ce41e3c79b190280fa"
   }
  }
 },
 "nbformat": 4,
 "nbformat_minor": 2
}
